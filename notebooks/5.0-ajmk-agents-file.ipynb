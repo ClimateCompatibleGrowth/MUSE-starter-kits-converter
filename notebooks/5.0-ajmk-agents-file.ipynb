{
 "cells": [
  {
   "cell_type": "code",
   "execution_count": 1,
   "metadata": {},
   "outputs": [],
   "source": [
    "import pandas as pd"
   ]
  },
  {
   "cell_type": "code",
   "execution_count": 2,
   "metadata": {},
   "outputs": [
    {
     "data": {
      "text/html": [
       "<div>\n",
       "<style scoped>\n",
       "    .dataframe tbody tr th:only-of-type {\n",
       "        vertical-align: middle;\n",
       "    }\n",
       "\n",
       "    .dataframe tbody tr th {\n",
       "        vertical-align: top;\n",
       "    }\n",
       "\n",
       "    .dataframe thead th {\n",
       "        text-align: right;\n",
       "    }\n",
       "</style>\n",
       "<table border=\"1\" class=\"dataframe\">\n",
       "  <thead>\n",
       "    <tr style=\"text-align: right;\">\n",
       "      <th></th>\n",
       "      <th>AgentShare</th>\n",
       "      <th>Name</th>\n",
       "      <th>RegionName</th>\n",
       "      <th>Objective1</th>\n",
       "      <th>Objective2</th>\n",
       "      <th>Objective3</th>\n",
       "      <th>ObjData1</th>\n",
       "      <th>ObjData2</th>\n",
       "      <th>ObjData3</th>\n",
       "      <th>Objsort1</th>\n",
       "      <th>Objsort2</th>\n",
       "      <th>Objsort3</th>\n",
       "      <th>SearchRule</th>\n",
       "      <th>DecisionMethod</th>\n",
       "      <th>Quantity</th>\n",
       "      <th>MaturityThreshold</th>\n",
       "      <th>Budget</th>\n",
       "      <th>Type</th>\n",
       "    </tr>\n",
       "  </thead>\n",
       "  <tbody>\n",
       "    <tr>\n",
       "      <th>0</th>\n",
       "      <td>Agent1</td>\n",
       "      <td>A1</td>\n",
       "      <td>R1</td>\n",
       "      <td>LCOE</td>\n",
       "      <td>NaN</td>\n",
       "      <td>NaN</td>\n",
       "      <td>1</td>\n",
       "      <td>NaN</td>\n",
       "      <td>NaN</td>\n",
       "      <td>False</td>\n",
       "      <td>NaN</td>\n",
       "      <td>NaN</td>\n",
       "      <td>all</td>\n",
       "      <td>singleObj</td>\n",
       "      <td>1</td>\n",
       "      <td>-1</td>\n",
       "      <td>inf</td>\n",
       "      <td>New</td>\n",
       "    </tr>\n",
       "    <tr>\n",
       "      <th>1</th>\n",
       "      <td>Agent2</td>\n",
       "      <td>A1</td>\n",
       "      <td>R1</td>\n",
       "      <td>LCOE</td>\n",
       "      <td>NaN</td>\n",
       "      <td>NaN</td>\n",
       "      <td>1</td>\n",
       "      <td>NaN</td>\n",
       "      <td>NaN</td>\n",
       "      <td>False</td>\n",
       "      <td>NaN</td>\n",
       "      <td>NaN</td>\n",
       "      <td>all</td>\n",
       "      <td>singleObj</td>\n",
       "      <td>1</td>\n",
       "      <td>-1</td>\n",
       "      <td>inf</td>\n",
       "      <td>Retrofit</td>\n",
       "    </tr>\n",
       "  </tbody>\n",
       "</table>\n",
       "</div>"
      ],
      "text/plain": [
       "  AgentShare Name RegionName Objective1  Objective2  Objective3  ObjData1  \\\n",
       "0     Agent1   A1         R1       LCOE         NaN         NaN         1   \n",
       "1     Agent2   A1         R1       LCOE         NaN         NaN         1   \n",
       "\n",
       "   ObjData2  ObjData3  Objsort1  Objsort2  Objsort3 SearchRule DecisionMethod  \\\n",
       "0       NaN       NaN     False       NaN       NaN        all      singleObj   \n",
       "1       NaN       NaN     False       NaN       NaN        all      singleObj   \n",
       "\n",
       "   Quantity  MaturityThreshold  Budget      Type  \n",
       "0         1                 -1     inf       New  \n",
       "1         1                 -1     inf  Retrofit  "
      ]
     },
     "execution_count": 2,
     "metadata": {},
     "output_type": "execute_result"
    }
   ],
   "source": [
    "agents = pd.read_csv(\"/Users/alexanderkell/Documents/SGI/Projects/11-starter-kits/data/external/muse_data/default/technodata/Agents.csv\")\n",
    "agents"
   ]
  },
  {
   "cell_type": "code",
   "execution_count": 7,
   "metadata": {},
   "outputs": [
    {
     "data": {
      "text/plain": [
       "{'technodata': {'Agents': 'agents',\n",
       "  'power': {'ExistingCapacity': 'existing_capacity',\n",
       "   'Technodata': 'technodata',\n",
       "   'CommIn': 'commin',\n",
       "   'CommOut': 'commout'},\n",
       "  'oil': {'Technodata': 'technodata',\n",
       "   'CommIn': 'commin',\n",
       "   'CommOut': 'commout',\n",
       "   'ExistingCapacity': 'existingcaapcity'}}}"
      ]
     },
     "execution_count": 7,
     "metadata": {},
     "output_type": "execute_result"
    }
   ],
   "source": [
    "muse_data = {}\n",
    "muse_data[\"technodata\"] = {\"Agents\": \"agents\"}\n",
    "\n",
    "muse_data[\"technodata\"][\"power\"] = {\n",
    "    \"ExistingCapacity\": \"existing_capacity\"\n",
    "}\n",
    "muse_data[\"technodata\"][\"power\"][\"Technodata\"] = \"technodata\"\n",
    "muse_data[\"technodata\"][\"power\"][\"CommIn\"] = \"commin\"\n",
    "muse_data[\"technodata\"][\"power\"][\"CommOut\"] = \"commout\"\n",
    "muse_data[\"technodata\"][\"oil\"] = {\"Technodata\": \"technodata\"}\n",
    "muse_data[\"technodata\"][\"oil\"][\"CommIn\"] = \"commin\"\n",
    "muse_data[\"technodata\"][\"oil\"][\"CommOut\"] = \"commout\"\n",
    "muse_data[\"technodata\"][\"oil\"][\n",
    "    \"ExistingCapacity\"\n",
    "] = \"existingcaapcity\"\n",
    "\n",
    "muse_data"
   ]
  },
  {
   "cell_type": "code",
   "execution_count": 22,
   "metadata": {},
   "outputs": [
    {
     "name": "stdout",
     "output_type": "stream",
     "text": [
      "agents\n",
      "existing_capacity\n",
      "technodata\n",
      "commin\n",
      "commout\n",
      "technodata\n",
      "commin\n",
      "commout\n",
      "existingcaapcity\n"
     ]
    }
   ],
   "source": [
    "results_data = muse_data\n",
    "for folder in results_data:\n",
    "    for sector in results_data[folder]:\n",
    "        if sector == \"Agents\":\n",
    "            print(results_data[folder][sector])\n",
    "        else:\n",
    "            for csv in results_data[folder][sector]:\n",
    "                print(results_data[folder][sector][csv])\n",
    "    "
   ]
  }
 ],
 "metadata": {
  "kernelspec": {
   "display_name": "Python 3",
   "language": "python",
   "name": "python3"
  },
  "language_info": {
   "codemirror_mode": {
    "name": "ipython",
    "version": 3
   },
   "file_extension": ".py",
   "mimetype": "text/x-python",
   "name": "python",
   "nbconvert_exporter": "python",
   "pygments_lexer": "ipython3",
   "version": "3.8.5"
  }
 },
 "nbformat": 4,
 "nbformat_minor": 4
}
