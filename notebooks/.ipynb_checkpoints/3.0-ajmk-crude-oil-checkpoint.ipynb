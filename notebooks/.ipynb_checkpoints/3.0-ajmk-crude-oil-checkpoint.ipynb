{
 "cells": [
  {
   "cell_type": "code",
   "execution_count": 1,
   "metadata": {},
   "outputs": [],
   "source": [
    "import pandas as pd"
   ]
  },
  {
   "cell_type": "code",
   "execution_count": 5,
   "metadata": {},
   "outputs": [
    {
     "data": {
      "text/html": [
       "<div>\n",
       "<style scoped>\n",
       "    .dataframe tbody tr th:only-of-type {\n",
       "        vertical-align: middle;\n",
       "    }\n",
       "\n",
       "    .dataframe tbody tr th {\n",
       "        vertical-align: top;\n",
       "    }\n",
       "\n",
       "    .dataframe thead th {\n",
       "        text-align: right;\n",
       "    }\n",
       "</style>\n",
       "<table border=\"1\" class=\"dataframe\">\n",
       "  <thead>\n",
       "    <tr style=\"text-align: right;\">\n",
       "      <th></th>\n",
       "      <th>Technology</th>\n",
       "      <th>Parameter</th>\n",
       "      <th>Value</th>\n",
       "    </tr>\n",
       "  </thead>\n",
       "  <tbody>\n",
       "    <tr>\n",
       "      <th>0</th>\n",
       "      <td>Crude Oil Refinery Option 1</td>\n",
       "      <td>Capital Cost ($/kW in 2020)</td>\n",
       "      <td>24.1</td>\n",
       "    </tr>\n",
       "    <tr>\n",
       "      <th>1</th>\n",
       "      <td>Crude Oil Refinery Option 2</td>\n",
       "      <td>Capital Cost ($/kW in 2020)</td>\n",
       "      <td>24.1</td>\n",
       "    </tr>\n",
       "    <tr>\n",
       "      <th>2</th>\n",
       "      <td>Crude Oil Refinery Option 1</td>\n",
       "      <td>Variable Cost ($/GJ in 2020)</td>\n",
       "      <td>0.71775</td>\n",
       "    </tr>\n",
       "    <tr>\n",
       "      <th>3</th>\n",
       "      <td>Crude Oil Refinery Option 2</td>\n",
       "      <td>Variable Cost ($/GJ in 2020)</td>\n",
       "      <td>0.71775</td>\n",
       "    </tr>\n",
       "    <tr>\n",
       "      <th>4</th>\n",
       "      <td>Crude Oil Refinery Option 1</td>\n",
       "      <td>Operational Life (years)</td>\n",
       "      <td>35</td>\n",
       "    </tr>\n",
       "    <tr>\n",
       "      <th>5</th>\n",
       "      <td>Crude Oil Refinery Option 2</td>\n",
       "      <td>Operational Life (years)</td>\n",
       "      <td>35</td>\n",
       "    </tr>\n",
       "    <tr>\n",
       "      <th>6</th>\n",
       "      <td>Crude Oil Refinery Option 1</td>\n",
       "      <td>Output Ratio</td>\n",
       "      <td>0.9 LFO : 0.1 HFO</td>\n",
       "    </tr>\n",
       "    <tr>\n",
       "      <th>7</th>\n",
       "      <td>Crude Oil Refinery Option 2</td>\n",
       "      <td>Output Ratio</td>\n",
       "      <td>0.8 LFO : 0.2 HFO</td>\n",
       "    </tr>\n",
       "  </tbody>\n",
       "</table>\n",
       "</div>"
      ],
      "text/plain": [
       "                    Technology                     Parameter  \\\n",
       "0  Crude Oil Refinery Option 1   Capital Cost ($/kW in 2020)   \n",
       "1  Crude Oil Refinery Option 2   Capital Cost ($/kW in 2020)   \n",
       "2  Crude Oil Refinery Option 1  Variable Cost ($/GJ in 2020)   \n",
       "3  Crude Oil Refinery Option 2  Variable Cost ($/GJ in 2020)   \n",
       "4  Crude Oil Refinery Option 1      Operational Life (years)   \n",
       "5  Crude Oil Refinery Option 2      Operational Life (years)   \n",
       "6  Crude Oil Refinery Option 1                  Output Ratio   \n",
       "7  Crude Oil Refinery Option 2                  Output Ratio   \n",
       "\n",
       "               Value  \n",
       "0               24.1  \n",
       "1               24.1  \n",
       "2            0.71775  \n",
       "3            0.71775  \n",
       "4                 35  \n",
       "5                 35  \n",
       "6  0.9 LFO : 0.1 HFO  \n",
       "7  0.8 LFO : 0.2 HFO  "
      ]
     },
     "execution_count": 5,
     "metadata": {},
     "output_type": "execute_result"
    }
   ],
   "source": [
    "oil = pd.read_csv(\"/Users/alexanderkell/Documents/SGI/Projects/11-starter-kits/data/raw/starter-kits/kenya/Table5_KEN.csv\")\n",
    "oil"
   ]
  },
  {
   "cell_type": "code",
   "execution_count": null,
   "metadata": {},
   "outputs": [],
   "source": [
    "oil[\"RegionName\"] = self.folder\n",
    "oil[\"Time\"] = \"2020\"\n",
    "oil[\"Level\"] = \"fixed\"\n",
    "oil[\"cap_exp\"] = 1\n",
    "oil[\"fix_exp\"] = 1\n",
    "oil[\"var_par\"] = 0\n",
    "oil[\"var_exp\"] = 1\n",
    "oil[\"Type\"] = \"energy\"\n",
    "oil[\"EndUse\"] = \"gas\"\n",
    "oil[\"Agent2\"] = 1\n",
    "oil[\"InterestRate\"] = 0.1\n",
    "oil[\"MaxCapacityAddition\"] = 20\n",
    "oil[\"MaxCapacityGrowth\"] = 20\n",
    "oil[\"TotalCapacityLimit\"] = 20"
   ]
  }
 ],
 "metadata": {
  "kernelspec": {
   "display_name": "Python 3",
   "language": "python",
   "name": "python3"
  },
  "language_info": {
   "codemirror_mode": {
    "name": "ipython",
    "version": 3
   },
   "file_extension": ".py",
   "mimetype": "text/x-python",
   "name": "python",
   "nbconvert_exporter": "python",
   "pygments_lexer": "ipython3",
   "version": "3.8.5"
  }
 },
 "nbformat": 4,
 "nbformat_minor": 4
}
