{
 "cells": [
  {
   "cell_type": "code",
   "execution_count": 76,
   "metadata": {},
   "outputs": [],
   "source": [
    "import pandas as pd\n",
    "import seaborn as sns\n",
    "import matplotlib.pyplot as plt"
   ]
  },
  {
   "cell_type": "code",
   "execution_count": 77,
   "metadata": {
    "scrolled": false
   },
   "outputs": [
    {
     "data": {
      "text/html": [
       "<div>\n",
       "<style scoped>\n",
       "    .dataframe tbody tr th:only-of-type {\n",
       "        vertical-align: middle;\n",
       "    }\n",
       "\n",
       "    .dataframe tbody tr th {\n",
       "        vertical-align: top;\n",
       "    }\n",
       "\n",
       "    .dataframe thead th {\n",
       "        text-align: right;\n",
       "    }\n",
       "</style>\n",
       "<table border=\"1\" class=\"dataframe\">\n",
       "  <thead>\n",
       "    <tr style=\"text-align: right;\">\n",
       "      <th></th>\n",
       "      <th>technology</th>\n",
       "      <th>dst_region</th>\n",
       "      <th>region</th>\n",
       "      <th>agent</th>\n",
       "      <th>sector</th>\n",
       "      <th>type</th>\n",
       "      <th>year</th>\n",
       "      <th>capacity</th>\n",
       "    </tr>\n",
       "  </thead>\n",
       "  <tbody>\n",
       "    <tr>\n",
       "      <th>0</th>\n",
       "      <td>gasboiler</td>\n",
       "      <td>Kenya</td>\n",
       "      <td>Kenya</td>\n",
       "      <td>A1</td>\n",
       "      <td>residential</td>\n",
       "      <td>retrofit</td>\n",
       "      <td>2020</td>\n",
       "      <td>10.0000</td>\n",
       "    </tr>\n",
       "    <tr>\n",
       "      <th>1</th>\n",
       "      <td>Biomass Power Plant</td>\n",
       "      <td>Kenya</td>\n",
       "      <td>Kenya</td>\n",
       "      <td>A1</td>\n",
       "      <td>power</td>\n",
       "      <td>retrofit</td>\n",
       "      <td>2020</td>\n",
       "      <td>2.7864</td>\n",
       "    </tr>\n",
       "    <tr>\n",
       "      <th>2</th>\n",
       "      <td>Geothermal Power Plant</td>\n",
       "      <td>Kenya</td>\n",
       "      <td>Kenya</td>\n",
       "      <td>A1</td>\n",
       "      <td>power</td>\n",
       "      <td>retrofit</td>\n",
       "      <td>2020</td>\n",
       "      <td>12.9722</td>\n",
       "    </tr>\n",
       "    <tr>\n",
       "      <th>3</th>\n",
       "      <td>Large Hydropower Plant (Dam) (&gt;100MW)</td>\n",
       "      <td>Kenya</td>\n",
       "      <td>Kenya</td>\n",
       "      <td>A1</td>\n",
       "      <td>power</td>\n",
       "      <td>retrofit</td>\n",
       "      <td>2020</td>\n",
       "      <td>15.4490</td>\n",
       "    </tr>\n",
       "    <tr>\n",
       "      <th>4</th>\n",
       "      <td>Light Fuel Oil Power Plant</td>\n",
       "      <td>Kenya</td>\n",
       "      <td>Kenya</td>\n",
       "      <td>A1</td>\n",
       "      <td>power</td>\n",
       "      <td>retrofit</td>\n",
       "      <td>2020</td>\n",
       "      <td>8.9010</td>\n",
       "    </tr>\n",
       "    <tr>\n",
       "      <th>...</th>\n",
       "      <td>...</td>\n",
       "      <td>...</td>\n",
       "      <td>...</td>\n",
       "      <td>...</td>\n",
       "      <td>...</td>\n",
       "      <td>...</td>\n",
       "      <td>...</td>\n",
       "      <td>...</td>\n",
       "    </tr>\n",
       "    <tr>\n",
       "      <th>93</th>\n",
       "      <td>Oil Fired Gas Turbine (SCGT)</td>\n",
       "      <td>Kenya</td>\n",
       "      <td>Kenya</td>\n",
       "      <td>A1</td>\n",
       "      <td>power</td>\n",
       "      <td>retrofit</td>\n",
       "      <td>2050</td>\n",
       "      <td>7.3547</td>\n",
       "    </tr>\n",
       "    <tr>\n",
       "      <th>94</th>\n",
       "      <td>Onshore Wind</td>\n",
       "      <td>Kenya</td>\n",
       "      <td>Kenya</td>\n",
       "      <td>A1</td>\n",
       "      <td>power</td>\n",
       "      <td>retrofit</td>\n",
       "      <td>2050</td>\n",
       "      <td>5.1006</td>\n",
       "    </tr>\n",
       "    <tr>\n",
       "      <th>95</th>\n",
       "      <td>Solar PV (Distributed with Storage)</td>\n",
       "      <td>Kenya</td>\n",
       "      <td>Kenya</td>\n",
       "      <td>A1</td>\n",
       "      <td>power</td>\n",
       "      <td>retrofit</td>\n",
       "      <td>2050</td>\n",
       "      <td>0.6226</td>\n",
       "    </tr>\n",
       "    <tr>\n",
       "      <th>96</th>\n",
       "      <td>Solar PV (Utility)</td>\n",
       "      <td>Kenya</td>\n",
       "      <td>Kenya</td>\n",
       "      <td>A1</td>\n",
       "      <td>power</td>\n",
       "      <td>retrofit</td>\n",
       "      <td>2050</td>\n",
       "      <td>0.3949</td>\n",
       "    </tr>\n",
       "    <tr>\n",
       "      <th>97</th>\n",
       "      <td>Crude Oil Refinery Option 2</td>\n",
       "      <td>Kenya</td>\n",
       "      <td>Kenya</td>\n",
       "      <td>A1</td>\n",
       "      <td>oil</td>\n",
       "      <td>retrofit</td>\n",
       "      <td>2050</td>\n",
       "      <td>32.0436</td>\n",
       "    </tr>\n",
       "  </tbody>\n",
       "</table>\n",
       "<p>98 rows × 8 columns</p>\n",
       "</div>"
      ],
      "text/plain": [
       "                               technology dst_region region agent  \\\n",
       "0                               gasboiler      Kenya  Kenya    A1   \n",
       "1                     Biomass Power Plant      Kenya  Kenya    A1   \n",
       "2                  Geothermal Power Plant      Kenya  Kenya    A1   \n",
       "3   Large Hydropower Plant (Dam) (>100MW)      Kenya  Kenya    A1   \n",
       "4              Light Fuel Oil Power Plant      Kenya  Kenya    A1   \n",
       "..                                    ...        ...    ...   ...   \n",
       "93           Oil Fired Gas Turbine (SCGT)      Kenya  Kenya    A1   \n",
       "94                           Onshore Wind      Kenya  Kenya    A1   \n",
       "95    Solar PV (Distributed with Storage)      Kenya  Kenya    A1   \n",
       "96                     Solar PV (Utility)      Kenya  Kenya    A1   \n",
       "97            Crude Oil Refinery Option 2      Kenya  Kenya    A1   \n",
       "\n",
       "         sector      type  year  capacity  \n",
       "0   residential  retrofit  2020   10.0000  \n",
       "1         power  retrofit  2020    2.7864  \n",
       "2         power  retrofit  2020   12.9722  \n",
       "3         power  retrofit  2020   15.4490  \n",
       "4         power  retrofit  2020    8.9010  \n",
       "..          ...       ...   ...       ...  \n",
       "93        power  retrofit  2050    7.3547  \n",
       "94        power  retrofit  2050    5.1006  \n",
       "95        power  retrofit  2050    0.6226  \n",
       "96        power  retrofit  2050    0.3949  \n",
       "97          oil  retrofit  2050   32.0436  \n",
       "\n",
       "[98 rows x 8 columns]"
      ]
     },
     "execution_count": 77,
     "metadata": {},
     "output_type": "execute_result"
    }
   ],
   "source": [
    "MCACapacity = pd.read_csv(\"/Users/alexanderkell/Documents/SGI/Projects/11-starter-kits/data/processed/starter-kits/Kenya/Results/MCACapacity.csv\")\n",
    "MCACapacity"
   ]
  },
  {
   "cell_type": "code",
   "execution_count": 78,
   "metadata": {},
   "outputs": [
    {
     "data": {
      "text/html": [
       "<div>\n",
       "<style scoped>\n",
       "    .dataframe tbody tr th:only-of-type {\n",
       "        vertical-align: middle;\n",
       "    }\n",
       "\n",
       "    .dataframe tbody tr th {\n",
       "        vertical-align: top;\n",
       "    }\n",
       "\n",
       "    .dataframe thead th {\n",
       "        text-align: right;\n",
       "    }\n",
       "</style>\n",
       "<table border=\"1\" class=\"dataframe\">\n",
       "  <thead>\n",
       "    <tr style=\"text-align: right;\">\n",
       "      <th></th>\n",
       "      <th>technology</th>\n",
       "      <th>sector</th>\n",
       "      <th>year</th>\n",
       "      <th>agent</th>\n",
       "      <th>capacity</th>\n",
       "    </tr>\n",
       "  </thead>\n",
       "  <tbody>\n",
       "    <tr>\n",
       "      <th>0</th>\n",
       "      <td>Biomass Power Plant</td>\n",
       "      <td>power</td>\n",
       "      <td>2020</td>\n",
       "      <td>A1</td>\n",
       "      <td>2.7864</td>\n",
       "    </tr>\n",
       "    <tr>\n",
       "      <th>1</th>\n",
       "      <td>Biomass Power Plant</td>\n",
       "      <td>power</td>\n",
       "      <td>2025</td>\n",
       "      <td>A1</td>\n",
       "      <td>2.5078</td>\n",
       "    </tr>\n",
       "    <tr>\n",
       "      <th>2</th>\n",
       "      <td>Biomass Power Plant</td>\n",
       "      <td>power</td>\n",
       "      <td>2030</td>\n",
       "      <td>A1</td>\n",
       "      <td>2.2570</td>\n",
       "    </tr>\n",
       "    <tr>\n",
       "      <th>3</th>\n",
       "      <td>Biomass Power Plant</td>\n",
       "      <td>power</td>\n",
       "      <td>2035</td>\n",
       "      <td>A1</td>\n",
       "      <td>2.0313</td>\n",
       "    </tr>\n",
       "    <tr>\n",
       "      <th>4</th>\n",
       "      <td>Biomass Power Plant</td>\n",
       "      <td>power</td>\n",
       "      <td>2040</td>\n",
       "      <td>A1</td>\n",
       "      <td>1.8282</td>\n",
       "    </tr>\n",
       "    <tr>\n",
       "      <th>...</th>\n",
       "      <td>...</td>\n",
       "      <td>...</td>\n",
       "      <td>...</td>\n",
       "      <td>...</td>\n",
       "      <td>...</td>\n",
       "    </tr>\n",
       "    <tr>\n",
       "      <th>79</th>\n",
       "      <td>gasboiler</td>\n",
       "      <td>residential</td>\n",
       "      <td>2030</td>\n",
       "      <td>A1</td>\n",
       "      <td>6.4000</td>\n",
       "    </tr>\n",
       "    <tr>\n",
       "      <th>80</th>\n",
       "      <td>gasboiler</td>\n",
       "      <td>residential</td>\n",
       "      <td>2035</td>\n",
       "      <td>A1</td>\n",
       "      <td>5.1200</td>\n",
       "    </tr>\n",
       "    <tr>\n",
       "      <th>81</th>\n",
       "      <td>gasboiler</td>\n",
       "      <td>residential</td>\n",
       "      <td>2040</td>\n",
       "      <td>A1</td>\n",
       "      <td>4.0920</td>\n",
       "    </tr>\n",
       "    <tr>\n",
       "      <th>82</th>\n",
       "      <td>gasboiler</td>\n",
       "      <td>residential</td>\n",
       "      <td>2045</td>\n",
       "      <td>A1</td>\n",
       "      <td>3.2700</td>\n",
       "    </tr>\n",
       "    <tr>\n",
       "      <th>83</th>\n",
       "      <td>gasboiler</td>\n",
       "      <td>residential</td>\n",
       "      <td>2050</td>\n",
       "      <td>A1</td>\n",
       "      <td>2.6200</td>\n",
       "    </tr>\n",
       "  </tbody>\n",
       "</table>\n",
       "<p>84 rows × 5 columns</p>\n",
       "</div>"
      ],
      "text/plain": [
       "             technology       sector  year agent  capacity\n",
       "0   Biomass Power Plant        power  2020    A1    2.7864\n",
       "1   Biomass Power Plant        power  2025    A1    2.5078\n",
       "2   Biomass Power Plant        power  2030    A1    2.2570\n",
       "3   Biomass Power Plant        power  2035    A1    2.0313\n",
       "4   Biomass Power Plant        power  2040    A1    1.8282\n",
       "..                  ...          ...   ...   ...       ...\n",
       "79            gasboiler  residential  2030    A1    6.4000\n",
       "80            gasboiler  residential  2035    A1    5.1200\n",
       "81            gasboiler  residential  2040    A1    4.0920\n",
       "82            gasboiler  residential  2045    A1    3.2700\n",
       "83            gasboiler  residential  2050    A1    2.6200\n",
       "\n",
       "[84 rows x 5 columns]"
      ]
     },
     "execution_count": 78,
     "metadata": {},
     "output_type": "execute_result"
    }
   ],
   "source": [
    "MCACapacity_summed = MCACapacity.groupby([\"technology\", \"sector\", \"year\", \"agent\"]).sum().reset_index()\n",
    "MCACapacity_summed"
   ]
  },
  {
   "cell_type": "code",
   "execution_count": 79,
   "metadata": {},
   "outputs": [
    {
     "data": {
      "text/plain": [
       "<matplotlib.legend.Legend at 0x7fe2330b9cd0>"
      ]
     },
     "execution_count": 79,
     "metadata": {},
     "output_type": "execute_result"
    },
    {
     "data": {
      "image/png": "[encoded data removed]",
      "text/plain": [
       "<Figure size 432x288 with 1 Axes>"
      ]
     },
     "metadata": {
      "needs_background": "light"
     },
     "output_type": "display_data"
    }
   ],
   "source": [
    "sns.lineplot(data=MCACapacity_summed[(MCACapacity_summed.sector==\"power\")], x=\"year\", y=\"capacity\", hue=\"technology\", style=\"agent\")\n",
    "plt.legend(bbox_to_anchor=(1.05, 1), loc=2, borderaxespad=0.)"
   ]
  },
  {
   "cell_type": "code",
   "execution_count": 80,
   "metadata": {},
   "outputs": [
    {
     "data": {
      "text/plain": [
       "<matplotlib.legend.Legend at 0x7fe234745c10>"
      ]
     },
     "execution_count": 80,
     "metadata": {},
     "output_type": "execute_result"
    },
    {
     "data": {
      "image/png": "[encoded data removed]",
      "text/plain": [
       "<Figure size 432x288 with 1 Axes>"
      ]
     },
     "metadata": {
      "needs_background": "light"
     },
     "output_type": "display_data"
    }
   ],
   "source": [
    "sns.lineplot(data=MCACapacity_summed[MCACapacity_summed.sector==\"oil\"], x=\"year\", y=\"capacity\", hue=\"technology\")\n",
    "plt.legend(bbox_to_anchor=(1.05, 1), loc=2, borderaxespad=0.)"
   ]
  },
  {
   "cell_type": "code",
   "execution_count": 81,
   "metadata": {},
   "outputs": [
    {
     "data": {
      "text/plain": [
       "<matplotlib.legend.Legend at 0x7fe23471d5e0>"
      ]
     },
     "execution_count": 81,
     "metadata": {},
     "output_type": "execute_result"
    },
    {
     "data": {
      "image/png": "[encoded data removed]",
      "text/plain": [
       "<Figure size 432x288 with 1 Axes>"
      ]
     },
     "metadata": {
      "needs_background": "light"
     },
     "output_type": "display_data"
    }
   ],
   "source": [
    "sns.lineplot(data=MCACapacity_summed[MCACapacity_summed.sector==\"residential\"], x=\"year\", y=\"capacity\", hue=\"technology\")\n",
    "plt.legend(bbox_to_anchor=(1.05, 1), loc=2, borderaxespad=0.)"
   ]
  },
  {
   "cell_type": "code",
   "execution_count": null,
   "metadata": {},
   "outputs": [],
   "source": []
  }
 ],
 "metadata": {
  "kernelspec": {
   "display_name": "Python 3",
   "language": "python",
   "name": "python3"
  },
  "language_info": {
   "codemirror_mode": {
    "name": "ipython",
    "version": 3
   },
   "file_extension": ".py",
   "mimetype": "text/x-python",
   "name": "python",
   "nbconvert_exporter": "python",
   "pygments_lexer": "ipython3",
   "version": "3.8.5"
  }
 },
 "nbformat": 4,
 "nbformat_minor": 4
}
